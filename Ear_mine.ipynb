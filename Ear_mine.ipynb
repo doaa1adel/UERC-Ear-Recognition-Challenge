{
  "nbformat": 4,
  "nbformat_minor": 0,
  "metadata": {
    "kernelspec": {
      "display_name": "Python 3",
      "language": "python",
      "name": "python3"
    },
    "language_info": {
      "codemirror_mode": {
        "name": "ipython",
        "version": 3
      },
      "file_extension": ".py",
      "mimetype": "text/x-python",
      "name": "python",
      "nbconvert_exporter": "python",
      "pygments_lexer": "ipython3",
      "version": "3.6.7"
    },
    "colab": {
      "name": "Ear.ipynb",
      "provenance": []
    }
  },
  "cells": [
    {
      "cell_type": "code",
      "metadata": {
        "id": "b9ue2hugcu7D",
        "colab_type": "code",
        "colab": {
          "base_uri": "https://localhost:8080/",
          "height": 88
        },
        "outputId": "0198e7c0-2cba-4824-a4a3-cbdddf14340c"
      },
      "source": [
        "!git clone https://github.com/doaa1adel/UERC-Ear-Recognition-Challenge"
      ],
      "execution_count": 2,
      "outputs": [
        {
          "output_type": "stream",
          "text": [
            "Cloning into 'UERC-Ear-Recognition-Challenge'...\n",
            "remote: Enumerating objects: 15, done.\u001b[K\n",
            "remote: Total 15 (delta 0), reused 0 (delta 0), pack-reused 15\u001b[K\n",
            "Unpacking objects: 100% (15/15), done.\n"
          ],
          "name": "stdout"
        }
      ]
    },
    {
      "cell_type": "code",
      "metadata": {
        "id": "C--Aeveoc_N5",
        "colab_type": "code",
        "colab": {
          "base_uri": "https://localhost:8080/",
          "height": 35
        },
        "outputId": "dbd684d5-dd0f-487f-8316-ea5eb7fb47c7"
      },
      "source": [
        "cd /content/UERC-Ear-Recognition-Challenge"
      ],
      "execution_count": 3,
      "outputs": [
        {
          "output_type": "stream",
          "text": [
            "/content/UERC-Ear-Recognition-Challenge\n"
          ],
          "name": "stdout"
        }
      ]
    },
    {
      "cell_type": "code",
      "metadata": {
        "id": "w6tdadpbcrF6",
        "colab_type": "code",
        "colab": {}
      },
      "source": [
        "import os,shutil\n",
        "import cv2,keras\n",
        "import numpy as np\n",
        "from imgaug import augmenters as iaa\n",
        "import skimage.io as io\n",
        "from sklearn.model_selection import train_test_split\n",
        "from keras.applications import ResNet50\n",
        "from keras.optimizers import Adam"
      ],
      "execution_count": 6,
      "outputs": []
    },
    {
      "cell_type": "code",
      "metadata": {
        "id": "0Rya4FcAcrGE",
        "colab_type": "code",
        "colab": {}
      },
      "source": [
        "def create_dataset(path,num_classes,data_splitno):\n",
        "    data_split=[]\n",
        "    subjects = os.listdir(path) # getting each subject folders (no. of classes=166)\n",
        "    for subject in subjects[:num_classes]:     ## selcting only 150 classes\n",
        "        os.makedirs(os.path.join('/content/gdrive/My Drive/Colab Notebooks/Data/train',subject))  ## creating new folder for train and test with 60/40 split from each subjects\n",
        "        os.makedirs(os.path.join('/content/gdrive/My Drive/Colab Notebooks/Data/test',subject))\n",
        "        subject_images = os.listdir(os.path.join(path,subject))\n",
        "        for image in subject_images:\n",
        "            if(image.endswith('.png')):\n",
        "                data_split.append(image)\n",
        "                train_no = int(data_splitno*len(data_split))\n",
        "        for i in range(0,len(data_split)):\n",
        "        \n",
        "            if(i<=train_no-1):\n",
        "                source_train=os.path.join(path,subject,data_split[i])\n",
        "                destination_train=os.path.join('/content/gdrive/My Drive/Colab Notebooks/Data/train',subject)\n",
        "                shutil.copy(source_train,destination_train)\n",
        "        \n",
        "            else:\n",
        "                source_test=os.path.join(path,subject,data_split[i])\n",
        "                destination_test=os.path.join('/content/gdrive/My Drive/Colab Notebooks/Data/test',subject)\n",
        "                shutil.copy(source_test,destination_test)\n",
        "                \n",
        "        data_split=[] "
      ],
      "execution_count": 22,
      "outputs": []
    },
    {
      "cell_type": "code",
      "metadata": {
        "id": "k6TnlpfMcrGI",
        "colab_type": "code",
        "colab": {}
      },
      "source": [
        "def data_augmentation(image,path):\n",
        "    flip =iaa.Sequential([iaa.Fliplr(0.5)]).augment_images(image)\n",
        "    io.imsave(path+'flip.png',flip)\n",
        "    \n",
        "    crop = iaa.Sequential([iaa.Crop(percent=(0,0.01))]).augment_images(image)\n",
        "    io.imsave(path+'crop.png',crop)\n",
        "    \n",
        "    GB = iaa.Sequential([iaa.GaussianBlur(sigma=(0,3.0))]).augment_images(image)\n",
        "    io.imsave(path+'GB.png',GB)\n",
        "    \n",
        "    GN = iaa.Sequential([iaa.AdditiveGaussianNoise(scale=(0.0,0.2))]).augment_images(image)\n",
        "    io.imsave(path+'GN.png',GN)\n",
        "    \n",
        "    CN = iaa.Sequential([iaa.ContrastNormalization(0.5,per_channel=0.5)]).augment_images(image)\n",
        "    io.imsave(path+'CN.png',CN)\n",
        "    \n",
        "    BR = iaa.Sequential([iaa.Multiply((0.8,1.2))]).augment_images(image)\n",
        "    io.imsave(path+'BR.png',BR)\n",
        "    \n",
        "    scale= iaa.Sequential([iaa.Affine(scale={\"x\": (0.8, 1.2), \"y\": (0.8,1.2)})]).augment_images(image)\n",
        "    io.imsave(path+'scale.png',scale)\n",
        "    \n",
        "    rotate = iaa.Sequential([iaa.Affine(rotate=(-45,45))]).augment_images(image)\n",
        "    io.imsave(path+'rotate.png',rotate)\n",
        "    "
      ],
      "execution_count": 14,
      "outputs": []
    },
    {
      "cell_type": "code",
      "metadata": {
        "id": "xj2NDA9mcrGL",
        "colab_type": "code",
        "colab": {}
      },
      "source": [
        "def get_augmented_data(path):\n",
        "    subjects = os.listdir(path)\n",
        "    for subject in subjects:\n",
        "        subject_path=os.path.join(path,subject)\n",
        "        subject_images = os.listdir(subject_path)\n",
        "        for image in subject_images:\n",
        "            if(image.endswith('.png')):\n",
        "                image_path=os.path.join(path,subject,image)\n",
        "                image = cv2.resize(cv2.imread(image_path),(100,100))\n",
        "                im_path=os.path.join(os.path.splitext(image_path)[0])\n",
        "                data_augmentation(image,im_path)"
      ],
      "execution_count": 15,
      "outputs": []
    },
    {
      "cell_type": "code",
      "metadata": {
        "id": "ja-eP54ZcrGO",
        "colab_type": "code",
        "colab": {}
      },
      "source": [
        "def data(path):\n",
        "    images=[]\n",
        "    label=[]\n",
        "    subjects = os.listdir(path)\n",
        "    for subject in subjects:\n",
        "        subject_path=os.path.join(path,subject)\n",
        "        subject_images = os.listdir(subject_path)\n",
        "        for image in subject_images:\n",
        "            if(image.endswith('.png')):\n",
        "                image_path=os.path.join(path,subject,image)\n",
        "                image = cv2.resize(cv2.imread(image_path),(224,224))\n",
        "                images.append(image)\n",
        "                label.append(subject)\n",
        "    \n",
        "    images=np.array(images)\n",
        "    label=np.array(label)\n",
        "    return images,label"
      ],
      "execution_count": 16,
      "outputs": []
    },
    {
      "cell_type": "code",
      "metadata": {
        "id": "AXGw_w0Sl1rf",
        "colab_type": "code",
        "colab": {}
      },
      "source": [
        "from google.colab import drive\n",
        "drive.mount('/content/gdrive')\n",
        "root_path = 'gdrive/My Drive/Colab Notebooks/'  #change dir to your project folder"
      ],
      "execution_count": null,
      "outputs": []
    },
    {
      "cell_type": "code",
      "metadata": {
        "id": "oG3xPzPwomnG",
        "colab_type": "code",
        "colab": {
          "base_uri": "https://localhost:8080/",
          "height": 35
        },
        "outputId": "8c5f7b6f-a56d-4c6c-a40c-9f15a3aa437a"
      },
      "source": [
        "!pwd  #to check the current path"
      ],
      "execution_count": 23,
      "outputs": [
        {
          "output_type": "stream",
          "text": [
            "/content/UERC-Ear-Recognition-Challenge\n"
          ],
          "name": "stdout"
        }
      ]
    },
    {
      "cell_type": "code",
      "metadata": {
        "id": "2BpQSs9mcrGQ",
        "colab_type": "code",
        "colab": {}
      },
      "source": [
        "#path = 'Dataset/Train Dataset' #the original command\n",
        "path= '/content/gdrive/My Drive/Colab Notebooks/Train Dataset'\n",
        "#train = 'Train Dataset'\n",
        "num_classes=150\n",
        "data_splitno=0.6\n",
        "create_dataset(path,num_classes,data_splitno)\n",
        "\n",
        "# Data Augmentation\n",
        "train_path = '/content/gdrive/My Drive/Colab Notebooks/Data/train'\n",
        "test_path = '/content/gdrive/My Drive/Colab Notebooks/Data/test'\n",
        "get_augmented_data(train_path)\n",
        "get_augmented_data(test_path)\n",
        "\n",
        "#Getting train and test data(80/20)\n",
        "train_images,train_label= data(train_path)\n",
        "test_images,test_label= data(test_path)\n",
        "x_train,x_valid,y_train,y_valid=train_test_split(train_images,train_label,test_size=0.2,random_state=42)\n",
        "x_test=test_images\n",
        "y_test=test_label\n",
        "\n",
        "# convert class vectors to binary class matrices\n",
        "y_train=keras.utils.to_categorical(y_train,1000)\n",
        "y_valid= keras.utils.to_categorical(y_valid,1000)\n",
        "y_test= keras.utils.to_categorical(y_test,1000)\n",
        "print('x_train=',x_train.shape)\n",
        "print('y_train=',y_train.shape)\n",
        "print('x_test=',x_test.shape)\n",
        "print('y_test=',y_test.shape)"
      ],
      "execution_count": null,
      "outputs": []
    },
    {
      "cell_type": "code",
      "metadata": {
        "id": "IRQy4dXqcrGU",
        "colab_type": "code",
        "colab": {
          "base_uri": "https://localhost:8080/",
          "height": 205
        },
        "outputId": "8144c33e-7235-4560-e344-49dc23f252a1"
      },
      "source": [
        "model = ResNet50(include_top=True, weights='imagenet', input_tensor=None, input_shape=x_train[0].shape, \n",
        "                 pooling=None, classes=1000)   #weights='imagenet' #weights=None\n",
        "model.summary()"
      ],
      "execution_count": 3,
      "outputs": [
        {
          "output_type": "error",
          "ename": "NameError",
          "evalue": "ignored",
          "traceback": [
            "\u001b[0;31m---------------------------------------------------------------------------\u001b[0m",
            "\u001b[0;31mNameError\u001b[0m                                 Traceback (most recent call last)",
            "\u001b[0;32m<ipython-input-3-641a899b87fd>\u001b[0m in \u001b[0;36m<module>\u001b[0;34m()\u001b[0m\n\u001b[0;32m----> 1\u001b[0;31m model = ResNet50(include_top=True, weights='imagenet', input_tensor=None, input_shape=x_train[0].shape, \n\u001b[0m\u001b[1;32m      2\u001b[0m                  pooling=None, classes=1000)   #weights='imagenet' #weights=None\n\u001b[1;32m      3\u001b[0m \u001b[0mmodel\u001b[0m\u001b[0;34m.\u001b[0m\u001b[0msummary\u001b[0m\u001b[0;34m(\u001b[0m\u001b[0;34m)\u001b[0m\u001b[0;34m\u001b[0m\u001b[0;34m\u001b[0m\u001b[0m\n",
            "\u001b[0;31mNameError\u001b[0m: name 'ResNet50' is not defined"
          ]
        }
      ]
    },
    {
      "cell_type": "code",
      "metadata": {
        "id": "hD4FNS9gcrGY",
        "colab_type": "code",
        "colab": {
          "base_uri": "https://localhost:8080/",
          "height": 187
        },
        "outputId": "063c93dc-5e07-465f-8eec-91f6f7e54493"
      },
      "source": [
        "model.compile(loss='categorical_crossentropy',optimizer=Adam(),metrics=['accuracy'])\n",
        "model.fit(x_train, y_train,batch_size=70,epochs=1,verbose=1,validation_data=(x_valid, y_valid))\n"
      ],
      "execution_count": 1,
      "outputs": [
        {
          "output_type": "error",
          "ename": "NameError",
          "evalue": "ignored",
          "traceback": [
            "\u001b[0;31m---------------------------------------------------------------------------\u001b[0m",
            "\u001b[0;31mNameError\u001b[0m                                 Traceback (most recent call last)",
            "\u001b[0;32m<ipython-input-1-fa3e2f3cf922>\u001b[0m in \u001b[0;36m<module>\u001b[0;34m()\u001b[0m\n\u001b[0;32m----> 1\u001b[0;31m \u001b[0mmodel\u001b[0m\u001b[0;34m.\u001b[0m\u001b[0mcompile\u001b[0m\u001b[0;34m(\u001b[0m\u001b[0mloss\u001b[0m\u001b[0;34m=\u001b[0m\u001b[0;34m'categorical_crossentropy'\u001b[0m\u001b[0;34m,\u001b[0m\u001b[0moptimizer\u001b[0m\u001b[0;34m=\u001b[0m\u001b[0mAdam\u001b[0m\u001b[0;34m(\u001b[0m\u001b[0;34m)\u001b[0m\u001b[0;34m,\u001b[0m\u001b[0mmetrics\u001b[0m\u001b[0;34m=\u001b[0m\u001b[0;34m[\u001b[0m\u001b[0;34m'accuracy'\u001b[0m\u001b[0;34m]\u001b[0m\u001b[0;34m)\u001b[0m\u001b[0;34m\u001b[0m\u001b[0;34m\u001b[0m\u001b[0m\n\u001b[0m\u001b[1;32m      2\u001b[0m \u001b[0mmodel\u001b[0m\u001b[0;34m.\u001b[0m\u001b[0mfit\u001b[0m\u001b[0;34m(\u001b[0m\u001b[0mx_train\u001b[0m\u001b[0;34m,\u001b[0m \u001b[0my_train\u001b[0m\u001b[0;34m,\u001b[0m\u001b[0mbatch_size\u001b[0m\u001b[0;34m=\u001b[0m\u001b[0;36m70\u001b[0m\u001b[0;34m,\u001b[0m\u001b[0mepochs\u001b[0m\u001b[0;34m=\u001b[0m\u001b[0;36m1\u001b[0m\u001b[0;34m,\u001b[0m\u001b[0mverbose\u001b[0m\u001b[0;34m=\u001b[0m\u001b[0;36m1\u001b[0m\u001b[0;34m,\u001b[0m\u001b[0mvalidation_data\u001b[0m\u001b[0;34m=\u001b[0m\u001b[0;34m(\u001b[0m\u001b[0mx_valid\u001b[0m\u001b[0;34m,\u001b[0m \u001b[0my_valid\u001b[0m\u001b[0;34m)\u001b[0m\u001b[0;34m)\u001b[0m\u001b[0;34m\u001b[0m\u001b[0;34m\u001b[0m\u001b[0m\n",
            "\u001b[0;31mNameError\u001b[0m: name 'model' is not defined"
          ]
        }
      ]
    },
    {
      "cell_type": "code",
      "metadata": {
        "id": "7oxvwblpcrGd",
        "colab_type": "code",
        "colab": {
          "base_uri": "https://localhost:8080/",
          "height": 53
        },
        "outputId": "364f0e06-b4ed-4e37-ecff-0f9463ac62a8"
      },
      "source": [
        "score = model.evaluate(x_test, y_test, verbose=0)\n",
        "print('Test loss:', score[0])\n",
        "print('Test accuracy:', score[1])"
      ],
      "execution_count": 27,
      "outputs": [
        {
          "output_type": "stream",
          "text": [
            "Test loss: 125618.20784785546\n",
            "Test accuracy: 0.05775076150894165\n"
          ],
          "name": "stdout"
        }
      ]
    },
    {
      "cell_type": "code",
      "metadata": {
        "id": "g63SgYpWC5V9",
        "colab_type": "code",
        "colab": {
          "base_uri": "https://localhost:8080/",
          "height": 1000
        },
        "outputId": "c9133169-7d7a-4dfc-a06d-a30fefe860b8"
      },
      "source": [
        "results = np.argmax(model.predict(x_test),axis = 1)\n",
        "results = np.reshape(results,(len(results),1))\n",
        "\n",
        "#accuracy \n",
        "\n",
        "print(\"Accuracy: \",(sum(results == y_test))/len(results) * 100)"
      ],
      "execution_count": 31,
      "outputs": [
        {
          "output_type": "stream",
          "text": [
            "Accuracy:  [0.16886187 0.16886187 0.16886187 0.16886187 0.16886187 0.16886187\n",
            " 0.16886187 0.16886187 0.16886187 0.16886187 0.16886187 0.16886187\n",
            " 0.16886187 0.16886187 0.16886187 0.16886187 0.16886187 0.16886187\n",
            " 0.16886187 0.16886187 0.16886187 0.16886187 0.16886187 0.16886187\n",
            " 0.16886187 0.16886187 0.16886187 0.16886187 0.16886187 0.16886187\n",
            " 0.16886187 0.16886187 0.16886187 0.16886187 0.16886187 0.16886187\n",
            " 0.16886187 0.16886187 0.16886187 0.16886187 0.16886187 0.16886187\n",
            " 0.16886187 0.16886187 0.16886187 0.16886187 0.16886187 0.16886187\n",
            " 0.16886187 0.16886187 0.16886187 0.16886187 0.16886187 0.16886187\n",
            " 0.16886187 0.16886187 0.16886187 0.16886187 0.16886187 0.16886187\n",
            " 0.16886187 0.16886187 0.16886187 0.16886187 0.16886187 0.16886187\n",
            " 0.16886187 0.16886187 0.16886187 0.16886187 0.16886187 0.16886187\n",
            " 0.16886187 0.16886187 0.16886187 0.16886187 0.16886187 0.16886187\n",
            " 0.16886187 0.16886187 0.16886187 0.16886187 0.16886187 0.16886187\n",
            " 0.16886187 0.16886187 0.16886187 0.16886187 0.16886187 0.16886187\n",
            " 0.16886187 0.16886187 0.16886187 0.16886187 0.16886187 0.16886187\n",
            " 0.16886187 0.16886187 0.16886187 0.16886187 0.16886187 0.16886187\n",
            " 0.16886187 0.16886187 0.16886187 0.16886187 0.16886187 0.16886187\n",
            " 0.16886187 0.16886187 0.16886187 0.16886187 0.16886187 0.16886187\n",
            " 0.16886187 0.16886187 0.16886187 0.16886187 0.16886187 0.16886187\n",
            " 0.16886187 0.16886187 0.16886187 0.16886187 0.16886187 0.16886187\n",
            " 0.16886187 0.16886187 0.16886187 0.16886187 0.16886187 0.16886187\n",
            " 0.16886187 0.16886187 0.16886187 0.16886187 0.16886187 0.16886187\n",
            " 0.16886187 0.16886187 0.16886187 0.16886187 0.16886187 0.16886187\n",
            " 0.16886187 0.16886187 0.16886187 0.16886187 0.16886187 0.16886187\n",
            " 0.16886187 0.16886187 0.20263425 0.16886187 0.16886187 0.16886187\n",
            " 0.16886187 0.10131712 0.16886187 0.16886187 0.06754475 0.16886187\n",
            " 0.16886187 0.16886187 0.16886187 0.16886187 0.16886187 0.16886187\n",
            " 0.16886187 0.16886187 0.16886187 0.16886187 0.16886187 0.16886187\n",
            " 0.16886187 0.16886187 0.16886187 0.16886187 0.16886187 0.16886187\n",
            " 0.16886187 0.16886187 0.16886187 0.16886187 0.16886187 0.16886187\n",
            " 0.16886187 0.16886187 0.16886187 0.16886187 0.16886187 0.16886187\n",
            " 0.16886187 0.16886187 0.16886187 0.16886187 0.16886187 0.16886187\n",
            " 0.16886187 0.16886187 0.16886187 0.16886187 0.16886187 0.16886187\n",
            " 0.16886187 0.16886187 0.16886187 0.16886187 0.16886187 0.16886187\n",
            " 0.16886187 0.16886187 0.16886187 0.16886187 0.16886187 0.16886187\n",
            " 0.16886187 0.16886187 0.16886187 0.16886187 0.16886187 0.16886187\n",
            " 0.16886187 0.16886187 0.16886187 0.16886187 0.16886187 0.16886187\n",
            " 0.16886187 0.16886187 0.16886187 0.16886187 0.16886187 0.16886187\n",
            " 0.16886187 0.16886187 0.16886187 0.16886187 0.16886187 0.16886187\n",
            " 0.16886187 0.16886187 0.16886187 0.16886187 0.16886187 0.16886187\n",
            " 0.16886187 0.16886187 0.16886187 0.16886187 0.16886187 0.16886187\n",
            " 0.16886187 0.16886187 0.16886187 0.16886187 0.16886187 0.16886187\n",
            " 0.16886187 0.16886187 0.16886187 0.16886187 0.16886187 0.16886187\n",
            " 0.16886187 0.16886187 0.16886187 0.16886187 0.16886187 0.16886187\n",
            " 0.16886187 0.16886187 0.16886187 0.16886187 0.16886187 0.16886187\n",
            " 0.16886187 0.16886187 0.16886187 0.16886187 0.16886187 0.16886187\n",
            " 0.16886187 0.16886187 0.16886187 0.16886187 0.16886187 0.16886187\n",
            " 0.16886187 0.16886187 0.16886187 0.16886187 0.16886187 0.16886187\n",
            " 0.16886187 0.16886187 0.16886187 0.16886187 0.16886187 0.16886187\n",
            " 0.16886187 0.16886187 0.16886187 0.16886187 0.16886187 0.16886187\n",
            " 0.16886187 0.16886187 0.16886187 0.16886187 0.16886187 0.16886187\n",
            " 0.16886187 0.16886187 0.16886187 0.16886187 0.16886187 0.16886187\n",
            " 0.16886187 0.16886187 0.16886187 0.16886187 0.16886187 0.16886187\n",
            " 0.16886187 0.16886187 0.16886187 0.16886187 0.16886187 0.16886187\n",
            " 0.16886187 0.16886187 0.16886187 0.16886187 0.16886187 0.16886187\n",
            " 0.16886187 0.16886187 0.16886187 0.16886187 0.16886187 0.16886187\n",
            " 0.16886187 0.16886187 0.16886187 0.16886187 0.16886187 0.16886187\n",
            " 0.16886187 0.16886187 0.16886187 0.16886187 0.16886187 0.16886187\n",
            " 0.16886187 0.16886187 0.16886187 0.16886187 0.16886187 0.16886187\n",
            " 0.16886187 0.16886187 0.16886187 0.16886187 0.16886187 0.16886187\n",
            " 0.16886187 0.16886187 0.16886187 0.16886187 0.16886187 0.16886187\n",
            " 0.16886187 0.16886187 0.16886187 0.16886187 0.16886187 0.16886187\n",
            " 0.16886187 0.16886187 0.16886187 0.16886187 0.16886187 0.16886187\n",
            " 0.16886187 0.16886187 0.16886187 0.16886187 0.16886187 0.16886187\n",
            " 0.16886187 0.16886187 0.16886187 0.16886187 0.16886187 0.16886187\n",
            " 0.16886187 0.16886187 0.16886187 0.16886187 0.16886187 0.16886187\n",
            " 0.16886187 0.16886187 0.16886187 0.16886187 0.16886187 0.16886187\n",
            " 0.16886187 0.16886187 0.16886187 0.16886187 0.16886187 0.16886187\n",
            " 0.16886187 0.16886187 0.16886187 0.16886187 0.16886187 0.16886187\n",
            " 0.16886187 0.16886187 0.16886187 0.16886187 0.16886187 0.16886187\n",
            " 0.16886187 0.16886187 0.16886187 0.16886187 0.16886187 0.16886187\n",
            " 0.16886187 0.16886187 0.16886187 0.16886187 0.16886187 0.16886187\n",
            " 0.16886187 0.16886187 0.16886187 0.16886187 0.16886187 0.16886187\n",
            " 0.16886187 0.16886187 0.16886187 0.16886187 0.16886187 0.16886187\n",
            " 0.16886187 0.16886187 0.16886187 0.16886187 0.16886187 0.16886187\n",
            " 0.16886187 0.16886187 0.16886187 0.16886187 0.16886187 0.16886187\n",
            " 0.16886187 0.16886187 0.16886187 0.16886187 0.16886187 0.16886187\n",
            " 0.16886187 0.16886187 0.16886187 0.16886187 0.16886187 0.16886187\n",
            " 0.16886187 0.16886187 0.16886187 0.16886187 0.16886187 0.16886187\n",
            " 0.16886187 0.16886187 0.16886187 0.16886187 0.16886187 0.16886187\n",
            " 0.16886187 0.16886187 0.16886187 0.16886187 0.16886187 0.16886187\n",
            " 0.16886187 0.16886187 0.16886187 0.16886187 0.16886187 0.16886187\n",
            " 0.16886187 0.16886187 0.16886187 0.16886187 0.16886187 0.16886187\n",
            " 0.16886187 0.16886187 0.16886187 0.16886187 0.16886187 0.16886187\n",
            " 0.16886187 0.16886187 0.16886187 0.16886187 0.16886187 0.16886187\n",
            " 0.16886187 0.16886187 0.16886187 0.16886187 0.16886187 0.16886187\n",
            " 0.16886187 0.16886187 0.16886187 0.16886187 0.16886187 0.16886187\n",
            " 0.16886187 0.16886187 0.16886187 0.16886187 0.16886187 0.16886187\n",
            " 0.16886187 0.16886187 0.16886187 0.16886187 0.16886187 0.16886187\n",
            " 0.16886187 0.16886187 0.16886187 0.16886187 0.16886187 0.16886187\n",
            " 0.16886187 0.16886187 0.16886187 0.16886187 0.16886187 0.16886187\n",
            " 0.16886187 0.16886187 0.16886187 0.16886187 0.16886187 0.16886187\n",
            " 0.16886187 0.16886187 0.16886187 0.16886187 0.16886187 0.16886187\n",
            " 0.16886187 0.16886187 0.16886187 0.16886187 0.16886187 0.16886187\n",
            " 0.16886187 0.16886187 0.16886187 0.16886187 0.16886187 0.16886187\n",
            " 0.16886187 0.16886187 0.16886187 0.16886187 0.16886187 0.16886187\n",
            " 0.16886187 0.16886187 0.16886187 0.16886187 0.16886187 0.16886187\n",
            " 0.16886187 0.16886187 0.16886187 0.16886187 0.16886187 0.16886187\n",
            " 0.16886187 0.16886187 0.16886187 0.16886187 0.16886187 0.16886187\n",
            " 0.16886187 0.16886187 0.16886187 0.16886187 0.16886187 0.16886187\n",
            " 0.16886187 0.16886187 0.16886187 0.16886187 0.16886187 0.16886187\n",
            " 0.16886187 0.16886187 0.16886187 0.16886187 0.16886187 0.16886187\n",
            " 0.16886187 0.16886187 0.16886187 0.16886187 0.16886187 0.16886187\n",
            " 0.16886187 0.16886187 0.16886187 0.16886187 0.16886187 0.16886187\n",
            " 0.16886187 0.16886187 0.16886187 0.16886187 0.16886187 0.16886187\n",
            " 0.16886187 0.16886187 0.16886187 0.16886187 0.16886187 0.16886187\n",
            " 0.16886187 0.16886187 0.16886187 0.16886187 0.16886187 0.16886187\n",
            " 0.16886187 0.16886187 0.16886187 0.16886187 0.16886187 0.16886187\n",
            " 0.16886187 0.16886187 0.16886187 0.16886187 0.16886187 0.16886187\n",
            " 0.16886187 0.16886187 0.16886187 0.16886187 0.16886187 0.16886187\n",
            " 0.16886187 0.16886187 0.16886187 0.16886187 0.16886187 0.16886187\n",
            " 0.16886187 0.16886187 0.16886187 0.16886187 0.16886187 0.16886187\n",
            " 0.16886187 0.16886187 0.16886187 0.16886187 0.16886187 0.16886187\n",
            " 0.16886187 0.16886187 0.16886187 0.16886187 0.16886187 0.16886187\n",
            " 0.16886187 0.16886187 0.16886187 0.16886187 0.16886187 0.16886187\n",
            " 0.16886187 0.16886187 0.16886187 0.16886187 0.16886187 0.16886187\n",
            " 0.16886187 0.16886187 0.16886187 0.16886187 0.16886187 0.16886187\n",
            " 0.16886187 0.16886187 0.16886187 0.16886187 0.16886187 0.16886187\n",
            " 0.16886187 0.16886187 0.16886187 0.16886187 0.16886187 0.16886187\n",
            " 0.16886187 0.16886187 0.16886187 0.16886187 0.16886187 0.16886187\n",
            " 0.16886187 0.16886187 0.16886187 0.16886187 0.16886187 0.16886187\n",
            " 0.16886187 0.16886187 0.16886187 0.16886187 0.16886187 0.16886187\n",
            " 0.16886187 0.16886187 0.16886187 0.16886187 0.16886187 0.16886187\n",
            " 0.16886187 0.16886187 0.16886187 0.16886187 0.16886187 0.16886187\n",
            " 0.16886187 0.16886187 0.16886187 0.16886187 0.16886187 0.16886187\n",
            " 0.16886187 0.16886187 0.16886187 0.16886187 0.16886187 0.16886187\n",
            " 0.16886187 0.16886187 0.16886187 0.16886187 0.16886187 0.16886187\n",
            " 0.16886187 0.16886187 0.16886187 0.16886187 0.16886187 0.16886187\n",
            " 0.16886187 0.16886187 0.16886187 0.16886187 0.16886187 0.16886187\n",
            " 0.16886187 0.16886187 0.16886187 0.16886187 0.16886187 0.16886187\n",
            " 0.16886187 0.16886187 0.16886187 0.16886187 0.16886187 0.16886187\n",
            " 0.16886187 0.16886187 0.16886187 0.16886187 0.16886187 0.16886187\n",
            " 0.16886187 0.16886187 0.16886187 0.16886187 0.16886187 0.16886187\n",
            " 0.16886187 0.16886187 0.16886187 0.16886187 0.16886187 0.16886187\n",
            " 0.16886187 0.16886187 0.16886187 0.16886187 0.16886187 0.16886187\n",
            " 0.16886187 0.16886187 0.16886187 0.16886187 0.16886187 0.16886187\n",
            " 0.16886187 0.16886187 0.16886187 0.16886187 0.16886187 0.16886187\n",
            " 0.16886187 0.16886187 0.16886187 0.16886187 0.16886187 0.16886187\n",
            " 0.16886187 0.16886187 0.16886187 0.16886187 0.16886187 0.16886187\n",
            " 0.16886187 0.16886187 0.16886187 0.16886187 0.16886187 0.16886187\n",
            " 0.16886187 0.16886187 0.16886187 0.16886187 0.16886187 0.16886187\n",
            " 0.16886187 0.16886187 0.16886187 0.16886187 0.16886187 0.16886187\n",
            " 0.16886187 0.16886187 0.16886187 0.16886187 0.16886187 0.16886187\n",
            " 0.16886187 0.16886187 0.16886187 0.16886187 0.16886187 0.16886187\n",
            " 0.16886187 0.16886187 0.16886187 0.16886187 0.16886187 0.16886187\n",
            " 0.16886187 0.16886187 0.16886187 0.16886187 0.16886187 0.16886187\n",
            " 0.16886187 0.16886187 0.16886187 0.16886187 0.16886187 0.16886187\n",
            " 0.16886187 0.16886187 0.16886187 0.16886187 0.16886187 0.16886187\n",
            " 0.16886187 0.16886187 0.16886187 0.16886187 0.16886187 0.16886187\n",
            " 0.16886187 0.16886187 0.16886187 0.16886187 0.16886187 0.16886187\n",
            " 0.16886187 0.16886187 0.16886187 0.16886187 0.16886187 0.16886187\n",
            " 0.16886187 0.16886187 0.16886187 0.16886187 0.16886187 0.16886187\n",
            " 0.16886187 0.16886187 0.16886187 0.16886187 0.16886187 0.16886187\n",
            " 0.16886187 0.16886187 0.16886187 0.16886187 0.16886187 0.16886187\n",
            " 0.16886187 0.16886187 0.16886187 0.16886187 0.16886187 0.16886187\n",
            " 0.16886187 0.16886187 0.16886187 0.16886187 0.16886187 0.16886187\n",
            " 0.16886187 0.16886187 0.16886187 0.16886187 0.16886187 0.16886187\n",
            " 0.16886187 0.16886187 0.16886187 0.16886187 0.16886187 0.16886187\n",
            " 0.16886187 0.16886187 0.16886187 0.16886187 0.16886187 0.16886187\n",
            " 0.16886187 0.16886187 0.16886187 0.16886187 0.16886187 0.16886187\n",
            " 0.16886187 0.16886187 0.16886187 0.16886187 0.16886187 0.16886187\n",
            " 0.16886187 0.16886187 0.16886187 0.16886187 0.16886187 0.16886187\n",
            " 0.16886187 0.16886187 0.16886187 0.16886187 0.16886187 0.16886187\n",
            " 0.16886187 0.16886187 0.16886187 0.16886187 0.16886187 0.16886187\n",
            " 0.16886187 0.16886187 0.16886187 0.16886187 0.16886187 0.16886187\n",
            " 0.16886187 0.16886187 0.16886187 0.16886187]\n"
          ],
          "name": "stdout"
        }
      ]
    }
  ]
}